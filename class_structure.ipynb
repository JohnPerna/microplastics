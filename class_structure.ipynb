{
 "cells": [
  {
   "cell_type": "markdown",
   "id": "2e3ef5fe",
   "metadata": {},
   "source": [
    "## Import What We Need\n",
    "\n",
    "### All packages needed for our classes will be loaded here."
   ]
  },
  {
   "cell_type": "code",
   "execution_count": 1,
   "id": "35cded9a",
   "metadata": {},
   "outputs": [],
   "source": [
    "import pandas as pd"
   ]
  },
  {
   "cell_type": "markdown",
   "id": "0e1a9bab",
   "metadata": {},
   "source": [
    "## Import from Packages what we may need\n",
    "\n",
    "### Pull from pacakges features you may need here"
   ]
  },
  {
   "cell_type": "code",
   "execution_count": null,
   "id": "bc93d07d",
   "metadata": {},
   "outputs": [],
   "source": []
  },
  {
   "cell_type": "markdown",
   "id": "477e990e",
   "metadata": {},
   "source": [
    "## Functions are defined here"
   ]
  },
  {
   "cell_type": "code",
   "execution_count": null,
   "id": "6743ba24",
   "metadata": {},
   "outputs": [],
   "source": []
  },
  {
   "cell_type": "markdown",
   "id": "43e336df",
   "metadata": {},
   "source": [
    "## Classes are defined here"
   ]
  },
  {
   "cell_type": "code",
   "execution_count": null,
   "id": "fc878400",
   "metadata": {},
   "outputs": [],
   "source": []
  },
  {
   "cell_type": "markdown",
   "id": "e75935c5",
   "metadata": {},
   "source": [
    "## So begins t3h Code"
   ]
  },
  {
   "cell_type": "code",
   "execution_count": null,
   "id": "60d433e6",
   "metadata": {},
   "outputs": [],
   "source": []
  }
 ],
 "metadata": {
  "kernelspec": {
   "display_name": "Python 3",
   "language": "python",
   "name": "python3"
  },
  "language_info": {
   "codemirror_mode": {
    "name": "ipython",
    "version": 3
   },
   "file_extension": ".py",
   "mimetype": "text/x-python",
   "name": "python",
   "nbconvert_exporter": "python",
   "pygments_lexer": "ipython3",
   "version": "3.13.3"
  }
 },
 "nbformat": 4,
 "nbformat_minor": 5
}
